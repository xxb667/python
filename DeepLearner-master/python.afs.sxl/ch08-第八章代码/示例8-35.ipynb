{
 "cells": [
  {
   "cell_type": "code",
   "execution_count": 1,
   "metadata": {},
   "outputs": [],
   "source": [
    "import tensorflow"
   ]
  },
  {
   "cell_type": "code",
   "execution_count": 2,
   "metadata": {},
   "outputs": [
    {
     "name": "stdout",
     "output_type": "stream",
     "text": [
      "\u001b[31mDEPRECATION: The default format will switch to columns in the future. You can use --format=(legacy|columns) (or define a format=(legacy|columns) in your pip.conf under the [list] section) to disable this warning.\u001b[0m\r\n",
      "tensorflow (1.13.1)\r\n",
      "tensorflow-estimator (1.13.0)\r\n",
      "tensorflow-probability (0.6.0)\r\n",
      "\u001b[33mYou are using pip version 9.0.1, however version 19.1.1 is available.\r\n",
      "You should consider upgrading via the 'pip install --upgrade pip' command.\u001b[0m\r\n"
     ]
    }
   ],
   "source": [
    "!pip list | grep tensorflow"
   ]
  },
  {
   "cell_type": "code",
   "execution_count": 3,
   "metadata": {
    "colab": {},
    "colab_type": "code",
    "id": "jRLQG9E4qpvU"
   },
   "outputs": [
    {
     "name": "stdout",
     "output_type": "stream",
     "text": [
      "Requirement already satisfied: tensorflow in /Users/yongjia/anaconda3/envs/tf11/lib/python3.6/site-packages\r\n",
      "Requirement already satisfied: wheel>=0.26 in /Users/yongjia/anaconda3/envs/tf11/lib/python3.6/site-packages (from tensorflow)\r\n",
      "Requirement already satisfied: gast>=0.2.0 in /Users/yongjia/anaconda3/envs/tf11/lib/python3.6/site-packages (from tensorflow)\r\n",
      "Requirement already satisfied: tensorflow-estimator<1.14.0rc0,>=1.13.0 in /Users/yongjia/anaconda3/envs/tf11/lib/python3.6/site-packages (from tensorflow)\r\n",
      "Requirement already satisfied: astor>=0.6.0 in /Users/yongjia/anaconda3/envs/tf11/lib/python3.6/site-packages (from tensorflow)\r\n",
      "Requirement already satisfied: absl-py>=0.1.6 in /Users/yongjia/anaconda3/envs/tf11/lib/python3.6/site-packages (from tensorflow)\r\n",
      "Requirement already satisfied: tensorboard<1.14.0,>=1.13.0 in /Users/yongjia/anaconda3/envs/tf11/lib/python3.6/site-packages (from tensorflow)\r\n",
      "Requirement already satisfied: keras-applications>=1.0.6 in /Users/yongjia/anaconda3/envs/tf11/lib/python3.6/site-packages (from tensorflow)\r\n",
      "Requirement already satisfied: numpy>=1.13.3 in /Users/yongjia/anaconda3/envs/tf11/lib/python3.6/site-packages (from tensorflow)\r\n",
      "Requirement already satisfied: grpcio>=1.8.6 in /Users/yongjia/anaconda3/envs/tf11/lib/python3.6/site-packages (from tensorflow)\r\n",
      "Requirement already satisfied: six>=1.10.0 in /Users/yongjia/anaconda3/envs/tf11/lib/python3.6/site-packages (from tensorflow)\r\n",
      "Requirement already satisfied: termcolor>=1.1.0 in /Users/yongjia/anaconda3/envs/tf11/lib/python3.6/site-packages (from tensorflow)\r\n",
      "Requirement already satisfied: protobuf>=3.6.1 in /Users/yongjia/anaconda3/envs/tf11/lib/python3.6/site-packages (from tensorflow)\r\n",
      "Requirement already satisfied: keras-preprocessing>=1.0.5 in /Users/yongjia/anaconda3/envs/tf11/lib/python3.6/site-packages (from tensorflow)\r\n",
      "Requirement already satisfied: mock>=2.0.0 in /Users/yongjia/anaconda3/envs/tf11/lib/python3.6/site-packages (from tensorflow-estimator<1.14.0rc0,>=1.13.0->tensorflow)\r\n",
      "Requirement already satisfied: werkzeug>=0.11.15 in /Users/yongjia/anaconda3/envs/tf11/lib/python3.6/site-packages (from tensorboard<1.14.0,>=1.13.0->tensorflow)\r\n",
      "Requirement already satisfied: markdown>=2.6.8 in /Users/yongjia/anaconda3/envs/tf11/lib/python3.6/site-packages (from tensorboard<1.14.0,>=1.13.0->tensorflow)\r\n",
      "Requirement already satisfied: h5py in /Users/yongjia/anaconda3/envs/tf11/lib/python3.6/site-packages (from keras-applications>=1.0.6->tensorflow)\r\n",
      "Requirement already satisfied: setuptools in /Users/yongjia/anaconda3/envs/tf11/lib/python3.6/site-packages (from protobuf>=3.6.1->tensorflow)\r\n",
      "Requirement already satisfied: pbr>=0.11 in /Users/yongjia/anaconda3/envs/tf11/lib/python3.6/site-packages (from mock>=2.0.0->tensorflow-estimator<1.14.0rc0,>=1.13.0->tensorflow)\r\n",
      "\u001b[33mYou are using pip version 9.0.1, however version 19.1.1 is available.\r\n",
      "You should consider upgrading via the 'pip install --upgrade pip' command.\u001b[0m\r\n"
     ]
    }
   ],
   "source": [
    "!pip install -i https://pypi.tuna.tsinghua.edu.cn/simple tensorflow"
   ]
  }
 ],
 "metadata": {
  "colab": {
   "collapsed_sections": [],
   "name": "basic_classification.ipynb",
   "private_outputs": true,
   "provenance": [],
   "toc_visible": true,
   "version": "0.3.2"
  },
  "kernelspec": {
   "display_name": "Python 3",
   "language": "python",
   "name": "python3"
  },
  "language_info": {
   "codemirror_mode": {
    "name": "ipython",
    "version": 3
   },
   "file_extension": ".py",
   "mimetype": "text/x-python",
   "name": "python",
   "nbconvert_exporter": "python",
   "pygments_lexer": "ipython3",
   "version": "3.6.2"
  },
  "toc": {
   "base_numbering": 1,
   "nav_menu": {},
   "number_sections": true,
   "sideBar": true,
   "skip_h1_title": false,
   "title_cell": "Table of Contents",
   "title_sidebar": "Contents",
   "toc_cell": false,
   "toc_position": {},
   "toc_section_display": true,
   "toc_window_display": false
  }
 },
 "nbformat": 4,
 "nbformat_minor": 1
}
