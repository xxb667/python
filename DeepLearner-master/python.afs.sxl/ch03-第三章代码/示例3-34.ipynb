{
 "cells": [
  {
   "cell_type": "markdown",
   "metadata": {},
   "source": [
    "# 示例3-34"
   ]
  },
  {
   "cell_type": "code",
   "execution_count": 1,
   "metadata": {},
   "outputs": [
    {
     "data": {
      "text/plain": [
       "{'关系': '长辈', '手机号': '13912356789', '称呼': '七舅姥爷'}"
      ]
     },
     "execution_count": 1,
     "metadata": {},
     "output_type": "execute_result"
    }
   ],
   "source": [
    "c = {'称呼': '七舅姥爷',\n",
    "     '手机号': '13912356789',\n",
    "     '关系': '长辈'}\n",
    "c"
   ]
  },
  {
   "cell_type": "code",
   "execution_count": 2,
   "metadata": {},
   "outputs": [
    {
     "name": "stdout",
     "output_type": "stream",
     "text": [
      "年经帅气的七舅姥爷, 梅梅祝您新年快乐，压岁钱直接打微信就可以啦！\n"
     ]
    }
   ],
   "source": [
    "if c['关系'] =='老师':\n",
    "    print('尊敬的'+c['称呼']+', 学生韩梅梅祝您新年快乐！')\n",
    "else:\n",
    "    print('年经帅气的'+c['称呼']+', 梅梅祝您新年快乐，压岁钱直接打微信就可以啦！')"
   ]
  },
  {
   "cell_type": "code",
   "execution_count": 3,
   "metadata": {},
   "outputs": [],
   "source": []
  }
 ],
 "metadata": {
  "kernelspec": {
   "display_name": "Python 3",
   "language": "python",
   "name": "python3"
  },
  "language_info": {
   "codemirror_mode": {
    "name": "ipython",
    "version": 3
   },
   "file_extension": ".py",
   "mimetype": "text/x-python",
   "name": "python",
   "nbconvert_exporter": "python",
   "pygments_lexer": "ipython3",
   "version": "3.6.5"
  }
 },
 "nbformat": 4,
 "nbformat_minor": 2
}
