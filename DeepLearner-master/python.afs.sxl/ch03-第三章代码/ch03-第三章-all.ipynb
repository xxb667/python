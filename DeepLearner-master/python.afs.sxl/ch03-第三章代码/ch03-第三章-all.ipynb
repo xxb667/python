{
 "cells": [
  {
   "cell_type": "markdown",
   "metadata": {},
   "source": [
    "# 示例 3-04"
   ]
  },
  {
   "cell_type": "code",
   "execution_count": 1,
   "metadata": {},
   "outputs": [
    {
     "name": "stdout",
     "output_type": "stream",
     "text": [
      "Hello, World\n"
     ]
    }
   ],
   "source": [
    "print('Hello, World')"
   ]
  },
  {
   "cell_type": "markdown",
   "metadata": {},
   "source": [
    "# 示例 3-17"
   ]
  },
  {
   "cell_type": "code",
   "execution_count": 1,
   "metadata": {},
   "outputs": [
    {
     "name": "stdout",
     "output_type": "stream",
     "text": [
      "Hi\n",
      "\n",
      "Hi\n"
     ]
    }
   ],
   "source": [
    "print('Hi')\n",
    "print('')\n",
    "print('Hi')"
   ]
  },
  {
   "cell_type": "markdown",
   "metadata": {},
   "source": [
    "# 示例 3-18"
   ]
  },
  {
   "cell_type": "code",
   "execution_count": 1,
   "metadata": {},
   "outputs": [
    {
     "name": "stdout",
     "output_type": "stream",
     "text": [
      "Hi\n",
      "你好\n",
      "在吗\n"
     ]
    }
   ],
   "source": [
    "print('Hi')\n",
    "print('你好')\n",
    "print('在吗')"
   ]
  },
  {
   "cell_type": "markdown",
   "metadata": {},
   "source": [
    "# 示例 3-19"
   ]
  },
  {
   "cell_type": "code",
   "execution_count": 1,
   "metadata": {},
   "outputs": [
    {
     "name": "stdout",
     "output_type": "stream",
     "text": [
      "13912356789\n"
     ]
    }
   ],
   "source": [
    "七舅姥爷 = '13912356789'\n",
    "print(七舅姥爷)"
   ]
  },
  {
   "cell_type": "code",
   "execution_count": 2,
   "metadata": {},
   "outputs": [],
   "source": []
  },
  {
   "cell_type": "markdown",
   "metadata": {},
   "source": [
    "# 示例 3-20"
   ]
  },
  {
   "cell_type": "code",
   "execution_count": 1,
   "metadata": {},
   "outputs": [
    {
     "name": "stdout",
     "output_type": "stream",
     "text": [
      "13712356789\n"
     ]
    }
   ],
   "source": [
    "韩梅梅 = '13712356789'\n",
    "print(韩梅梅)"
   ]
  },
  {
   "cell_type": "code",
   "execution_count": 2,
   "metadata": {},
   "outputs": [
    {
     "name": "stdout",
     "output_type": "stream",
     "text": [
      "13812356789\n"
     ]
    }
   ],
   "source": [
    "小明 = '13812356789'\n",
    "print(小明)"
   ]
  },
  {
   "cell_type": "markdown",
   "metadata": {},
   "source": [
    "# 铺垫\n",
    "来自示例 3-19 3-20"
   ]
  },
  {
   "cell_type": "code",
   "execution_count": 1,
   "metadata": {},
   "outputs": [],
   "source": [
    "七舅姥爷 = '13912356789' \n",
    "韩梅梅 = '13712356789' \n",
    "小明 = '13812356789' "
   ]
  },
  {
   "cell_type": "markdown",
   "metadata": {},
   "source": [
    "# 示例3-21"
   ]
  },
  {
   "cell_type": "code",
   "execution_count": 2,
   "metadata": {},
   "outputs": [
    {
     "name": "stdout",
     "output_type": "stream",
     "text": [
      "['13912356789', '13712356789', '13812356789']\n"
     ]
    }
   ],
   "source": [
    "通讯录 = [七舅姥爷,韩梅梅,小明]\n",
    "print(通讯录)"
   ]
  },
  {
   "cell_type": "code",
   "execution_count": 3,
   "metadata": {},
   "outputs": [],
   "source": []
  },
  {
   "cell_type": "markdown",
   "metadata": {},
   "source": [
    "# 铺垫 \n",
    "来自示例 3-21"
   ]
  },
  {
   "cell_type": "code",
   "execution_count": 1,
   "metadata": {},
   "outputs": [],
   "source": [
    "七舅姥爷 = '13912356789' \n",
    "韩梅梅 = '13712356789' \n",
    "小明 = '13812356789' \n",
    "通讯录 = [七舅姥爷,韩梅梅,小明] "
   ]
  },
  {
   "cell_type": "markdown",
   "metadata": {},
   "source": [
    "# 示例3-22"
   ]
  },
  {
   "cell_type": "code",
   "execution_count": 2,
   "metadata": {},
   "outputs": [
    {
     "name": "stdout",
     "output_type": "stream",
     "text": [
      "13912356789\n",
      "13712356789\n",
      "13812356789\n"
     ]
    }
   ],
   "source": [
    "for 手机号 in 通讯录:\n",
    "    print(手机号)"
   ]
  },
  {
   "cell_type": "code",
   "execution_count": 3,
   "metadata": {},
   "outputs": [],
   "source": []
  },
  {
   "cell_type": "markdown",
   "metadata": {},
   "source": [
    "# 示例3-23"
   ]
  },
  {
   "cell_type": "code",
   "execution_count": 1,
   "metadata": {},
   "outputs": [
    {
     "name": "stdout",
     "output_type": "stream",
     "text": [
      "{'称呼': '李老师', '手机号': '13912356910'}\n"
     ]
    }
   ],
   "source": [
    "李老师 = {'称呼': '李老师',\n",
    "        '手机号': '13912356910'}\n",
    "print(李老师)"
   ]
  },
  {
   "cell_type": "code",
   "execution_count": 2,
   "metadata": {},
   "outputs": [
    {
     "name": "stdout",
     "output_type": "stream",
     "text": [
      "{'称呼': '张老师', '手机号': '13922356910'}\n"
     ]
    }
   ],
   "source": [
    "张老师 = {'称呼': '张老师',\n",
    "        '手机号': '13922356910'}\n",
    "print(张老师)"
   ]
  },
  {
   "cell_type": "code",
   "execution_count": 3,
   "metadata": {},
   "outputs": [],
   "source": []
  },
  {
   "cell_type": "markdown",
   "metadata": {},
   "source": [
    "# 铺垫\n",
    " 来自示例 3-23"
   ]
  },
  {
   "cell_type": "code",
   "execution_count": 1,
   "metadata": {},
   "outputs": [],
   "source": [
    "李老师 = {'称呼': '李老师',\n",
    "        '手机号': '13912356910'} \n",
    "张老师 = {'称呼': '张老师',\n",
    "        '手机号': '13922356910'} "
   ]
  },
  {
   "cell_type": "markdown",
   "metadata": {},
   "source": [
    "# 示例 3-24"
   ]
  },
  {
   "cell_type": "code",
   "execution_count": 2,
   "metadata": {},
   "outputs": [
    {
     "data": {
      "text/plain": [
       "'尊敬的张老师'"
      ]
     },
     "execution_count": 2,
     "metadata": {},
     "output_type": "execute_result"
    }
   ],
   "source": [
    "'尊敬的'+张老师['称呼']"
   ]
  },
  {
   "cell_type": "code",
   "execution_count": 3,
   "metadata": {},
   "outputs": [],
   "source": []
  },
  {
   "cell_type": "markdown",
   "metadata": {},
   "source": [
    "# 铺垫\n",
    "来自示例 3-24"
   ]
  },
  {
   "cell_type": "code",
   "execution_count": 1,
   "metadata": {},
   "outputs": [],
   "source": [
    "李老师 = {'称呼': '李老师',\n",
    "        '手机号': '13912356910'} \n",
    "张老师 = {'称呼': '张老师',\n",
    "        '手机号': '13922356910'}"
   ]
  },
  {
   "cell_type": "markdown",
   "metadata": {},
   "source": [
    "# 示例 3-25"
   ]
  },
  {
   "cell_type": "code",
   "execution_count": 2,
   "metadata": {},
   "outputs": [
    {
     "data": {
      "text/plain": [
       "'尊敬的张老师, 学生韩梅梅祝您新年快乐！'"
      ]
     },
     "execution_count": 2,
     "metadata": {},
     "output_type": "execute_result"
    }
   ],
   "source": [
    "'尊敬的'+张老师['称呼']+', 学生韩梅梅祝您新年快乐！'"
   ]
  },
  {
   "cell_type": "code",
   "execution_count": 3,
   "metadata": {},
   "outputs": [],
   "source": []
  },
  {
   "cell_type": "markdown",
   "metadata": {},
   "source": [
    "# 示例3-26"
   ]
  },
  {
   "cell_type": "code",
   "execution_count": 1,
   "metadata": {},
   "outputs": [
    {
     "data": {
      "text/plain": [
       "2"
      ]
     },
     "execution_count": 1,
     "metadata": {},
     "output_type": "execute_result"
    }
   ],
   "source": [
    "1+1"
   ]
  },
  {
   "cell_type": "code",
   "execution_count": 2,
   "metadata": {},
   "outputs": [
    {
     "data": {
      "text/plain": [
       "15"
      ]
     },
     "execution_count": 2,
     "metadata": {},
     "output_type": "execute_result"
    }
   ],
   "source": [
    "3*5"
   ]
  },
  {
   "cell_type": "code",
   "execution_count": 3,
   "metadata": {},
   "outputs": [
    {
     "data": {
      "text/plain": [
       "'Hello,  World!'"
      ]
     },
     "execution_count": 3,
     "metadata": {},
     "output_type": "execute_result"
    }
   ],
   "source": [
    "'Hello, ' + ' World!'"
   ]
  },
  {
   "cell_type": "code",
   "execution_count": 4,
   "metadata": {},
   "outputs": [],
   "source": []
  },
  {
   "cell_type": "markdown",
   "metadata": {},
   "source": [
    "# 示例3-27"
   ]
  },
  {
   "cell_type": "code",
   "execution_count": 1,
   "metadata": {},
   "outputs": [
    {
     "data": {
      "text/plain": [
       "[{'手机号': '13912356910', '称呼': '李老师'},\n",
       " {'手机号': '13922356910', '称呼': '张老师'},\n",
       " {'手机号': '13933356910', '称呼': '赵老师'}]"
      ]
     },
     "execution_count": 1,
     "metadata": {},
     "output_type": "execute_result"
    }
   ],
   "source": [
    "t_li = {'称呼': '李老师',\n",
    "        '手机号': '13912356910'}\n",
    "t_zhang = {'称呼': '张老师',\n",
    "        '手机号': '13922356910'}\n",
    "t_zhao = {'称呼': '赵老师',\n",
    "        '手机号': '13933356910'}\n",
    "teachers = [t_li, t_zhang, t_zhao]\n",
    "teachers"
   ]
  },
  {
   "cell_type": "code",
   "execution_count": 2,
   "metadata": {},
   "outputs": [],
   "source": []
  },
  {
   "cell_type": "markdown",
   "metadata": {},
   "source": [
    "# 铺垫\n",
    "来自示例 3-27"
   ]
  },
  {
   "cell_type": "code",
   "execution_count": 1,
   "metadata": {},
   "outputs": [
    {
     "data": {
      "text/plain": [
       "[{'手机号': '13912356910', '称呼': '李老师'},\n",
       " {'手机号': '13922356910', '称呼': '张老师'},\n",
       " {'手机号': '13933356910', '称呼': '赵老师'}]"
      ]
     },
     "execution_count": 1,
     "metadata": {},
     "output_type": "execute_result"
    }
   ],
   "source": [
    "t_li = {'称呼': '李老师',\n",
    "        '手机号': '13912356910'}\n",
    "t_zhang = {'称呼': '张老师',\n",
    "        '手机号': '13922356910'}\n",
    "t_zhao = {'称呼': '赵老师',\n",
    "        '手机号': '13933356910'} \n",
    "teachers = [t_li, t_zhang, t_zhao]\n",
    "teachers"
   ]
  },
  {
   "cell_type": "markdown",
   "metadata": {},
   "source": [
    "# 示例 3-28"
   ]
  },
  {
   "cell_type": "code",
   "execution_count": 2,
   "metadata": {},
   "outputs": [
    {
     "name": "stdout",
     "output_type": "stream",
     "text": [
      "尊敬的李老师, 学生韩梅梅祝您新年快乐！\n",
      "尊敬的张老师, 学生韩梅梅祝您新年快乐！\n",
      "尊敬的赵老师, 学生韩梅梅祝您新年快乐！\n"
     ]
    }
   ],
   "source": [
    "for t in teachers:\n",
    "    print('尊敬的'+t['称呼']+', 学生韩梅梅祝您新年快乐！')"
   ]
  },
  {
   "cell_type": "code",
   "execution_count": 3,
   "metadata": {},
   "outputs": [],
   "source": []
  },
  {
   "cell_type": "markdown",
   "metadata": {},
   "source": [
    "# 示例 3-29"
   ]
  },
  {
   "cell_type": "code",
   "execution_count": 1,
   "metadata": {},
   "outputs": [
    {
     "data": {
      "text/plain": [
       "'老师'"
      ]
     },
     "execution_count": 1,
     "metadata": {},
     "output_type": "execute_result"
    }
   ],
   "source": [
    "关系 = '老师'\n",
    "关系"
   ]
  },
  {
   "cell_type": "code",
   "execution_count": 2,
   "metadata": {},
   "outputs": [
    {
     "name": "stdout",
     "output_type": "stream",
     "text": [
      "这老师的手机号\n"
     ]
    }
   ],
   "source": [
    "if 关系=='老师':\n",
    "    print('这老师的手机号')"
   ]
  },
  {
   "cell_type": "markdown",
   "metadata": {},
   "source": [
    "# 示例3-30"
   ]
  },
  {
   "cell_type": "code",
   "execution_count": 1,
   "metadata": {},
   "outputs": [
    {
     "data": {
      "text/plain": [
       "'老师'"
      ]
     },
     "execution_count": 1,
     "metadata": {},
     "output_type": "execute_result"
    }
   ],
   "source": [
    "关系 = '老师'\n",
    "关系"
   ]
  },
  {
   "cell_type": "code",
   "execution_count": 2,
   "metadata": {},
   "outputs": [],
   "source": [
    "if 关系=='长辈':\n",
    "    print('这老师的手机号')"
   ]
  },
  {
   "cell_type": "code",
   "execution_count": 3,
   "metadata": {},
   "outputs": [],
   "source": []
  },
  {
   "cell_type": "markdown",
   "metadata": {},
   "source": [
    "# 示例3-31"
   ]
  },
  {
   "cell_type": "code",
   "execution_count": 1,
   "metadata": {},
   "outputs": [
    {
     "data": {
      "text/plain": [
       "'老师'"
      ]
     },
     "execution_count": 1,
     "metadata": {},
     "output_type": "execute_result"
    }
   ],
   "source": [
    "关系 = '老师'\n",
    "关系"
   ]
  },
  {
   "cell_type": "code",
   "execution_count": 2,
   "metadata": {},
   "outputs": [
    {
     "name": "stdout",
     "output_type": "stream",
     "text": [
      "这不是老师的手机号\n"
     ]
    }
   ],
   "source": [
    "if 关系=='长辈':\n",
    "    print('这老师的手机号')\n",
    "    \n",
    "else:\n",
    "    print('这不是老师的手机号')"
   ]
  },
  {
   "cell_type": "code",
   "execution_count": 3,
   "metadata": {},
   "outputs": [],
   "source": []
  },
  {
   "cell_type": "markdown",
   "metadata": {},
   "source": [
    "# 铺垫\n",
    "来自示例 3-30"
   ]
  },
  {
   "cell_type": "code",
   "execution_count": 1,
   "metadata": {},
   "outputs": [],
   "source": [
    "关系 = '老师'"
   ]
  },
  {
   "cell_type": "markdown",
   "metadata": {},
   "source": [
    "# 示例 3-32"
   ]
  },
  {
   "cell_type": "code",
   "execution_count": 2,
   "metadata": {},
   "outputs": [
    {
     "name": "stdout",
     "output_type": "stream",
     "text": [
      "这不是老师的手机号\n"
     ]
    }
   ],
   "source": [
    "if 关系=='长辈':\n",
    "    print('这老师的手机号')\n",
    "\n",
    "else:\n",
    "     print('这不是老师的手机号')"
   ]
  },
  {
   "cell_type": "code",
   "execution_count": 3,
   "metadata": {},
   "outputs": [],
   "source": []
  },
  {
   "cell_type": "markdown",
   "metadata": {},
   "source": [
    "# 示例3-33"
   ]
  },
  {
   "cell_type": "code",
   "execution_count": 1,
   "metadata": {},
   "outputs": [],
   "source": [
    "c = {'称呼': '李老师',\n",
    "     '手机号': '13912356910',\n",
    "     '关系': '老师'}\n",
    "c\n",
    "t_li = {'称呼': '李老师',\n",
    "        '手机号': '13912356910'}"
   ]
  },
  {
   "cell_type": "code",
   "execution_count": 2,
   "metadata": {},
   "outputs": [
    {
     "name": "stdout",
     "output_type": "stream",
     "text": [
      "尊敬的李老师, 学生韩梅梅祝您新年快乐！\n"
     ]
    }
   ],
   "source": [
    "if c['关系'] =='老师':\n",
    "    print('尊敬的'+t_li['称呼']+', 学生韩梅梅祝您新年快乐！')"
   ]
  },
  {
   "cell_type": "code",
   "execution_count": 3,
   "metadata": {},
   "outputs": [],
   "source": []
  },
  {
   "cell_type": "markdown",
   "metadata": {},
   "source": [
    "# 示例3-34"
   ]
  },
  {
   "cell_type": "code",
   "execution_count": 1,
   "metadata": {},
   "outputs": [
    {
     "data": {
      "text/plain": [
       "{'关系': '长辈', '手机号': '13912356789', '称呼': '七舅姥爷'}"
      ]
     },
     "execution_count": 1,
     "metadata": {},
     "output_type": "execute_result"
    }
   ],
   "source": [
    "c = {'称呼': '七舅姥爷',\n",
    "     '手机号': '13912356789',\n",
    "     '关系': '长辈'}\n",
    "c"
   ]
  },
  {
   "cell_type": "code",
   "execution_count": 2,
   "metadata": {},
   "outputs": [
    {
     "name": "stdout",
     "output_type": "stream",
     "text": [
      "年经帅气的七舅姥爷, 梅梅祝您新年快乐，压岁钱直接打微信就可以啦！\n"
     ]
    }
   ],
   "source": [
    "if c['关系'] =='老师':\n",
    "    print('尊敬的'+c['称呼']+', 学生韩梅梅祝您新年快乐！')\n",
    "else:\n",
    "    print('年经帅气的'+c['称呼']+', 梅梅祝您新年快乐，压岁钱直接打微信就可以啦！')"
   ]
  },
  {
   "cell_type": "code",
   "execution_count": 3,
   "metadata": {},
   "outputs": [],
   "source": []
  },
  {
   "cell_type": "markdown",
   "metadata": {},
   "source": [
    "# 示例3-35"
   ]
  },
  {
   "cell_type": "code",
   "execution_count": 1,
   "metadata": {},
   "outputs": [
    {
     "data": {
      "text/plain": [
       "[{'关系': '老师', '手机号': '13912356910', '称呼': '李老师'},\n",
       " {'关系': '老师', '手机号': '13922356910', '称呼': '张老师'},\n",
       " {'关系': '长辈', '手机号': '13912356789', '称呼': '七舅姥爷'}]"
      ]
     },
     "execution_count": 1,
     "metadata": {},
     "output_type": "execute_result"
    }
   ],
   "source": [
    "t_li = {'称呼': '李老师',\n",
    "     '手机号': '13912356910',\n",
    "     '关系': '老师'}\n",
    "t_zhang = {'称呼': '张老师',\n",
    "        '手机号': '13922356910',\n",
    "       '关系': '老师'}\n",
    "七舅姥爷 = {'称呼': '七舅姥爷',\n",
    "     '手机号': '13912356789',\n",
    "     '关系': '长辈'}\n",
    "contacts = [t_li, t_zhang, 七舅姥爷]\n",
    "contacts"
   ]
  },
  {
   "cell_type": "code",
   "execution_count": 2,
   "metadata": {},
   "outputs": [],
   "source": []
  },
  {
   "cell_type": "markdown",
   "metadata": {},
   "source": [
    "# 铺垫\n",
    "来自示例 3-33 3-35"
   ]
  },
  {
   "cell_type": "code",
   "execution_count": 1,
   "metadata": {},
   "outputs": [
    {
     "name": "stdout",
     "output_type": "stream",
     "text": [
      "尊敬的李老师, 学生韩梅梅祝您新年快乐！\n"
     ]
    }
   ],
   "source": [
    "关系 = '老师'\n",
    "c = {'称呼': '李老师',\n",
    "     '手机号': '13912356910',\n",
    "     '关系': '老师'}\n",
    "c\n",
    "t_li = {'称呼': '李老师',\n",
    "     '手机号': '13912356910',\n",
    "     '关系': '老师'}\n",
    "t_zhang = {'称呼': '张老师',\n",
    "        '手机号': '13922356910',\n",
    "       '关系': '老师'}\n",
    "七舅姥爷 = {'称呼': '七舅姥爷',\n",
    "     '手机号': '13912356789',\n",
    "     '关系': '长辈'}\n",
    "contacts = [t_li, t_zhang, 七舅姥爷]\n",
    "contacts\n",
    "if c['关系'] =='老师':\n",
    "    print('尊敬的'+t_li['称呼']+', 学生韩梅梅祝您新年快乐！')"
   ]
  },
  {
   "cell_type": "markdown",
   "metadata": {},
   "source": [
    "# 示例 3-36"
   ]
  },
  {
   "cell_type": "code",
   "execution_count": 2,
   "metadata": {},
   "outputs": [
    {
     "name": "stdout",
     "output_type": "stream",
     "text": [
      "尊敬的李老师, 学生韩梅梅祝您新年快乐！\n",
      "尊敬的张老师, 学生韩梅梅祝您新年快乐！\n",
      "年经帅气的七舅姥爷, 梅梅祝您新年快乐，压岁钱直接打微信就可以啦！\n"
     ]
    }
   ],
   "source": [
    "for c in contacts:\n",
    "    if c['关系'] =='老师':\n",
    "        print('尊敬的'+c['称呼']+', 学生韩梅梅祝您新年快乐！')\n",
    "    else:\n",
    "        print('年经帅气的'+c['称呼']+', 梅梅祝您新年快乐，压岁钱直接打微信就可以啦！')"
   ]
  },
  {
   "cell_type": "code",
   "execution_count": 3,
   "metadata": {},
   "outputs": [],
   "source": []
  },
  {
   "cell_type": "markdown",
   "metadata": {},
   "source": [
    "#  示例 3-37"
   ]
  },
  {
   "cell_type": "code",
   "execution_count": 1,
   "metadata": {},
   "outputs": [
    {
     "name": "stdout",
     "output_type": "stream",
     "text": [
      "尊敬的李老师, 学生韩梅梅祝您新年快乐！\n",
      "尊敬的李老师, 学生韩梅梅祝您新年快乐！\n",
      "尊敬的张老师, 学生韩梅梅祝您新年快乐！\n",
      "年经帅气的七舅姥爷, 梅梅祝您新年快乐，压岁钱直接打微信就可以啦！\n"
     ]
    }
   ],
   "source": [
    "关系 = '老师'\n",
    "c = {'称呼': '李老师',\n",
    "     '手机号': '13912356910',\n",
    "     '关系': '老师'}\n",
    "c\n",
    "t_li = {'称呼': '李老师',\n",
    "     '手机号': '13912356910',\n",
    "     '关系': '老师'}\n",
    "t_zhang = {'称呼': '张老师',\n",
    "        '手机号': '13922356910',\n",
    "       '关系': '老师'}\n",
    "七舅姥爷 = {'称呼': '七舅姥爷',\n",
    "     '手机号': '13912356789',\n",
    "     '关系': '长辈'}\n",
    "contacts = [t_li, t_zhang, 七舅姥爷]\n",
    "contacts\n",
    "if c['关系'] =='老师':\n",
    "    print('尊敬的'+t_li['称呼']+', 学生韩梅梅祝您新年快乐！')\n",
    "for c in contacts:\n",
    "    if c['关系'] =='老师':\n",
    "        print('尊敬的'+c['称呼']+', 学生韩梅梅祝您新年快乐！')\n",
    "    else:\n",
    "        print('年经帅气的'+c['称呼']+', 梅梅祝您新年快乐，压岁钱直接打微信就可以啦！')"
   ]
  },
  {
   "cell_type": "code",
   "execution_count": 2,
   "metadata": {},
   "outputs": [],
   "source": []
  }
 ],
 "metadata": {
  "kernelspec": {
   "display_name": "Python 3",
   "language": "python",
   "name": "python3"
  },
  "language_info": {
   "codemirror_mode": {
    "name": "ipython",
    "version": 3
   },
   "file_extension": ".py",
   "mimetype": "text/x-python",
   "name": "python",
   "nbconvert_exporter": "python",
   "pygments_lexer": "ipython3",
   "version": "3.6.5"
  },
  "toc": {
   "base_numbering": 1,
   "nav_menu": {},
   "number_sections": true,
   "sideBar": true,
   "skip_h1_title": false,
   "title_cell": "Table of Contents",
   "title_sidebar": "Contents",
   "toc_cell": false,
   "toc_position": {},
   "toc_section_display": true,
   "toc_window_display": false
  }
 },
 "nbformat": 4,
 "nbformat_minor": 2
}
