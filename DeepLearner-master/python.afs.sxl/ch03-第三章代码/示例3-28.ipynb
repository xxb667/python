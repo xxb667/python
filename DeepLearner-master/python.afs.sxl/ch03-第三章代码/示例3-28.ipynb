{
 "cells": [
  {
   "cell_type": "markdown",
   "metadata": {},
   "source": [
    "# 铺垫\n",
    "来自示例 3-27"
   ]
  },
  {
   "cell_type": "code",
   "execution_count": 1,
   "metadata": {},
   "outputs": [
    {
     "data": {
      "text/plain": [
       "[{'手机号': '13912356910', '称呼': '李老师'},\n",
       " {'手机号': '13922356910', '称呼': '张老师'},\n",
       " {'手机号': '13933356910', '称呼': '赵老师'}]"
      ]
     },
     "execution_count": 1,
     "metadata": {},
     "output_type": "execute_result"
    }
   ],
   "source": [
    "t_li = {'称呼': '李老师',\n",
    "        '手机号': '13912356910'}\n",
    "t_zhang = {'称呼': '张老师',\n",
    "        '手机号': '13922356910'}\n",
    "t_zhao = {'称呼': '赵老师',\n",
    "        '手机号': '13933356910'} \n",
    "teachers = [t_li, t_zhang, t_zhao]\n",
    "teachers"
   ]
  },
  {
   "cell_type": "markdown",
   "metadata": {},
   "source": [
    "# 示例 3-28"
   ]
  },
  {
   "cell_type": "code",
   "execution_count": 2,
   "metadata": {},
   "outputs": [
    {
     "name": "stdout",
     "output_type": "stream",
     "text": [
      "尊敬的李老师, 学生韩梅梅祝您新年快乐！\n",
      "尊敬的张老师, 学生韩梅梅祝您新年快乐！\n",
      "尊敬的赵老师, 学生韩梅梅祝您新年快乐！\n"
     ]
    }
   ],
   "source": [
    "for t in teachers:\n",
    "    print('尊敬的'+t['称呼']+', 学生韩梅梅祝您新年快乐！')"
   ]
  },
  {
   "cell_type": "code",
   "execution_count": 3,
   "metadata": {},
   "outputs": [],
   "source": []
  }
 ],
 "metadata": {
  "kernelspec": {
   "display_name": "Python 3",
   "language": "python",
   "name": "python3"
  },
  "language_info": {
   "codemirror_mode": {
    "name": "ipython",
    "version": 3
   },
   "file_extension": ".py",
   "mimetype": "text/x-python",
   "name": "python",
   "nbconvert_exporter": "python",
   "pygments_lexer": "ipython3",
   "version": "3.6.2"
  },
  "toc": {
   "base_numbering": 1,
   "nav_menu": {},
   "number_sections": true,
   "sideBar": true,
   "skip_h1_title": false,
   "title_cell": "Table of Contents",
   "title_sidebar": "Contents",
   "toc_cell": false,
   "toc_position": {},
   "toc_section_display": true,
   "toc_window_display": false
  }
 },
 "nbformat": 4,
 "nbformat_minor": 2
}
