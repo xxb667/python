{
 "cells": [
  {
   "cell_type": "markdown",
   "metadata": {},
   "source": [
    "# 铺垫\n",
    "来自示例 3-33 3-35"
   ]
  },
  {
   "cell_type": "code",
   "execution_count": 1,
   "metadata": {},
   "outputs": [
    {
     "name": "stdout",
     "output_type": "stream",
     "text": [
      "尊敬的李老师, 学生韩梅梅祝您新年快乐！\n"
     ]
    }
   ],
   "source": [
    "关系 = '老师'\n",
    "c = {'称呼': '李老师',\n",
    "     '手机号': '13912356910',\n",
    "     '关系': '老师'}\n",
    "c\n",
    "t_li = {'称呼': '李老师',\n",
    "     '手机号': '13912356910',\n",
    "     '关系': '老师'}\n",
    "t_zhang = {'称呼': '张老师',\n",
    "        '手机号': '13922356910',\n",
    "       '关系': '老师'}\n",
    "七舅姥爷 = {'称呼': '七舅姥爷',\n",
    "     '手机号': '13912356789',\n",
    "     '关系': '长辈'}\n",
    "contacts = [t_li, t_zhang, 七舅姥爷]\n",
    "contacts\n",
    "if c['关系'] =='老师':\n",
    "    print('尊敬的'+t_li['称呼']+', 学生韩梅梅祝您新年快乐！')"
   ]
  },
  {
   "cell_type": "markdown",
   "metadata": {},
   "source": [
    "# 示例 3-36"
   ]
  },
  {
   "cell_type": "code",
   "execution_count": 2,
   "metadata": {},
   "outputs": [
    {
     "name": "stdout",
     "output_type": "stream",
     "text": [
      "尊敬的李老师, 学生韩梅梅祝您新年快乐！\n",
      "尊敬的张老师, 学生韩梅梅祝您新年快乐！\n",
      "年经帅气的七舅姥爷, 梅梅祝您新年快乐，压岁钱直接打微信就可以啦！\n"
     ]
    }
   ],
   "source": [
    "for c in contacts:\n",
    "    if c['关系'] =='老师':\n",
    "        print('尊敬的'+c['称呼']+', 学生韩梅梅祝您新年快乐！')\n",
    "    else:\n",
    "        print('年经帅气的'+c['称呼']+', 梅梅祝您新年快乐，压岁钱直接打微信就可以啦！')"
   ]
  },
  {
   "cell_type": "code",
   "execution_count": 3,
   "metadata": {},
   "outputs": [],
   "source": []
  }
 ],
 "metadata": {
  "kernelspec": {
   "display_name": "Python 3",
   "language": "python",
   "name": "python3"
  },
  "language_info": {
   "codemirror_mode": {
    "name": "ipython",
    "version": 3
   },
   "file_extension": ".py",
   "mimetype": "text/x-python",
   "name": "python",
   "nbconvert_exporter": "python",
   "pygments_lexer": "ipython3",
   "version": "3.6.5"
  }
 },
 "nbformat": 4,
 "nbformat_minor": 2
}
