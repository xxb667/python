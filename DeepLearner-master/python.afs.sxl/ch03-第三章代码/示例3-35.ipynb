{
 "cells": [
  {
   "cell_type": "markdown",
   "metadata": {},
   "source": [
    "# 示例3-35"
   ]
  },
  {
   "cell_type": "code",
   "execution_count": 1,
   "metadata": {},
   "outputs": [
    {
     "data": {
      "text/plain": [
       "[{'关系': '老师', '手机号': '13912356910', '称呼': '李老师'},\n",
       " {'关系': '老师', '手机号': '13922356910', '称呼': '张老师'},\n",
       " {'关系': '长辈', '手机号': '13912356789', '称呼': '七舅姥爷'}]"
      ]
     },
     "execution_count": 1,
     "metadata": {},
     "output_type": "execute_result"
    }
   ],
   "source": [
    "t_li = {'称呼': '李老师',\n",
    "     '手机号': '13912356910',\n",
    "     '关系': '老师'}\n",
    "t_zhang = {'称呼': '张老师',\n",
    "        '手机号': '13922356910',\n",
    "       '关系': '老师'}\n",
    "七舅姥爷 = {'称呼': '七舅姥爷',\n",
    "     '手机号': '13912356789',\n",
    "     '关系': '长辈'}\n",
    "contacts = [t_li, t_zhang, 七舅姥爷]\n",
    "contacts"
   ]
  },
  {
   "cell_type": "code",
   "execution_count": 2,
   "metadata": {},
   "outputs": [],
   "source": []
  }
 ],
 "metadata": {
  "kernelspec": {
   "display_name": "Python 3",
   "language": "python",
   "name": "python3"
  },
  "language_info": {
   "codemirror_mode": {
    "name": "ipython",
    "version": 3
   },
   "file_extension": ".py",
   "mimetype": "text/x-python",
   "name": "python",
   "nbconvert_exporter": "python",
   "pygments_lexer": "ipython3",
   "version": "3.6.5"
  }
 },
 "nbformat": 4,
 "nbformat_minor": 2
}
