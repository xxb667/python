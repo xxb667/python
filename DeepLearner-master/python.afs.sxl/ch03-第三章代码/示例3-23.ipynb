{
 "cells": [
  {
   "cell_type": "markdown",
   "metadata": {},
   "source": [
    "# 示例3-23"
   ]
  },
  {
   "cell_type": "code",
   "execution_count": 1,
   "metadata": {},
   "outputs": [
    {
     "name": "stdout",
     "output_type": "stream",
     "text": [
      "{'称呼': '李老师', '手机号': '13912356910'}\n"
     ]
    }
   ],
   "source": [
    "李老师 = {'称呼': '李老师',\n",
    "        '手机号': '13912356910'}\n",
    "print(李老师)"
   ]
  },
  {
   "cell_type": "code",
   "execution_count": 2,
   "metadata": {},
   "outputs": [
    {
     "name": "stdout",
     "output_type": "stream",
     "text": [
      "{'称呼': '张老师', '手机号': '13922356910'}\n"
     ]
    }
   ],
   "source": [
    "张老师 = {'称呼': '张老师',\n",
    "        '手机号': '13922356910'}\n",
    "print(张老师)"
   ]
  },
  {
   "cell_type": "code",
   "execution_count": 3,
   "metadata": {},
   "outputs": [],
   "source": []
  }
 ],
 "metadata": {
  "kernelspec": {
   "display_name": "Python 3",
   "language": "python",
   "name": "python3"
  },
  "language_info": {
   "codemirror_mode": {
    "name": "ipython",
    "version": 3
   },
   "file_extension": ".py",
   "mimetype": "text/x-python",
   "name": "python",
   "nbconvert_exporter": "python",
   "pygments_lexer": "ipython3",
   "version": "3.6.5"
  }
 },
 "nbformat": 4,
 "nbformat_minor": 2
}
