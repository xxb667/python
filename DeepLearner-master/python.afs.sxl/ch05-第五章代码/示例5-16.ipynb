{
 "cells": [
  {
   "cell_type": "markdown",
   "metadata": {},
   "source": [
    "# 铺垫\n",
    "来自示例5-11"
   ]
  },
  {
   "cell_type": "code",
   "execution_count": 1,
   "metadata": {},
   "outputs": [
    {
     "name": "stdout",
     "output_type": "stream",
     "text": [
      "Populating the interactive namespace from numpy and matplotlib\n"
     ]
    }
   ],
   "source": [
    "%pylab inline"
   ]
  },
  {
   "cell_type": "code",
   "execution_count": 2,
   "metadata": {},
   "outputs": [],
   "source": [
    "数据 = [[0, 0, 0, 0, 1, 0, 0, 0, 0],\n",
    "       [0, 0, 0, 1, 0, 1, 0, 0, 0],\n",
    "       [0, 0, 1, 0, 0, 0, 1, 0, 0],\n",
    "       [0, 1, 0, 0, 0, 0, 0, 1, 0],\n",
    "       [1, 0, 0, 0, 0, 0, 0, 0, 1],\n",
    "       [0, 1, 0, 0, 0, 0, 0, 1, 0],\n",
    "       [0, 0, 1, 0, 0, 0, 1, 0, 0],\n",
    "       [0, 0, 0, 1, 0, 1, 0, 0, 0],\n",
    "       [0, 0, 0, 0, 1, 0, 0, 0, 0]]"
   ]
  },
  {
   "cell_type": "markdown",
   "metadata": {},
   "source": [
    "# 示例5-16"
   ]
  },
  {
   "cell_type": "code",
   "execution_count": 3,
   "metadata": {},
   "outputs": [
    {
     "data": {
      "text/plain": [
       "<matplotlib.image.AxesImage at 0x112a49160>"
      ]
     },
     "execution_count": 3,
     "metadata": {},
     "output_type": "execute_result"
    },
    {
     "data": {
      "image/png": "[encoded data removed]",
      "text/plain": [
       "<Figure size 432x288 with 1 Axes>"
      ]
     },
     "metadata": {},
     "output_type": "display_data"
    }
   ],
   "source": [
    "数据[0][4]=0.5\n",
    "数据[1][3]=0.3\n",
    "imshow(数据,cmap='gray')"
   ]
  }
 ],
 "metadata": {
  "kernelspec": {
   "display_name": "Python 3",
   "language": "python",
   "name": "python3"
  },
  "language_info": {
   "codemirror_mode": {
    "name": "ipython",
    "version": 3
   },
   "file_extension": ".py",
   "mimetype": "text/x-python",
   "name": "python",
   "nbconvert_exporter": "python",
   "pygments_lexer": "ipython3",
   "version": "3.6.2"
  }
 },
 "nbformat": 4,
 "nbformat_minor": 2
}
