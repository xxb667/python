{
 "cells": [
  {
   "cell_type": "markdown",
   "metadata": {},
   "source": [
    "# 铺垫\n",
    "来自示例6-20, 6-17"
   ]
  },
  {
   "cell_type": "code",
   "execution_count": 1,
   "metadata": {},
   "outputs": [],
   "source": [
    "import numpy as np\n",
    "x = np.array([1, 2, 3])\n",
    "w = np.array([3, 1])\n",
    "product_00 = w[0]*x[0]\n",
    "product_11 = w[1]*x[1]\n",
    "arr0 = np.array([product_00,product_11])\n",
    "product_01 = w[0]*x[1]\n",
    "product_12 = w[1]*x[2]\n",
    "arr1 = np.array([product_01,product_12])"
   ]
  },
  {
   "cell_type": "markdown",
   "metadata": {},
   "source": [
    "# 示例6-21"
   ]
  },
  {
   "cell_type": "code",
   "execution_count": 2,
   "metadata": {},
   "outputs": [
    {
     "name": "stdout",
     "output_type": "stream",
     "text": [
      "arr0.sum() = product_00 + product_11 =  3 + 2 = 5\n",
      "arr1.sum() = product_01 + product_12 =  6 + 3 = 9\n"
     ]
    }
   ],
   "source": [
    "print('arr0.sum() = product_00 + product_11 = ', product_00, '+', product_11, '=', np.sum(arr0))\n",
    "print('arr1.sum() = product_01 + product_12 = ', product_01, '+', product_12, '=', np.sum(arr1))"
   ]
  }
 ],
 "metadata": {
  "kernelspec": {
   "display_name": "Python 3",
   "language": "python",
   "name": "python3"
  },
  "language_info": {
   "codemirror_mode": {
    "name": "ipython",
    "version": 3
   },
   "file_extension": ".py",
   "mimetype": "text/x-python",
   "name": "python",
   "nbconvert_exporter": "python",
   "pygments_lexer": "ipython3",
   "version": "3.6.2"
  },
  "toc": {
   "base_numbering": 1,
   "nav_menu": {},
   "number_sections": true,
   "sideBar": true,
   "skip_h1_title": false,
   "title_cell": "Table of Contents",
   "title_sidebar": "Contents",
   "toc_cell": false,
   "toc_position": {},
   "toc_section_display": true,
   "toc_window_display": false
  }
 },
 "nbformat": 4,
 "nbformat_minor": 2
}
