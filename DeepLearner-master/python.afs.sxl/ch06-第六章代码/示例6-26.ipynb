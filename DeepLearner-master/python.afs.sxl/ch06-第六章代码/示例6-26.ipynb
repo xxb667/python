{
 "cells": [
  {
   "cell_type": "code",
   "execution_count": 1,
   "metadata": {},
   "outputs": [
    {
     "name": "stdout",
     "output_type": "stream",
     "text": [
      "Populating the interactive namespace from numpy and matplotlib\n"
     ]
    }
   ],
   "source": [
    "%pylab inline"
   ]
  },
  {
   "cell_type": "code",
   "execution_count": 2,
   "metadata": {},
   "outputs": [],
   "source": [
    "from PIL import Image\n",
    "import io\n",
    "from urllib import request\n",
    "import matplotlib.pyplot as plt\n",
    "import numpy as np\n",
    "url = 'https://raw.githubusercontent.com/MachineIntellect/DeepLearner/master/J.png'\n",
    "resp = request.urlopen(url)\n",
    "s = resp.read()\n",
    "imgG = Image.open(io.BytesIO(s)).convert('L')\n",
    "img_data = np.asarray(imgG)\n",
    "filter3 = np.array([[1,1,1],\n",
    "          [0,0,0],\n",
    "          [-1,-1,-1]])\n",
    "def conv2D(x,kernel):\n",
    "    (n_H_prev, n_W_prev) = x.shape\n",
    "    (f, f) = kernel.shape\n",
    "    n_H = n_H_prev - f + 1\n",
    "    n_W = n_W_prev - f + 1\n",
    "    Z = np.zeros((n_H, n_W))\n",
    "    for h in range(n_H):\n",
    "        for w in range(n_W):\n",
    "            vert_start = h\n",
    "            vert_end = vert_start + f\n",
    "            horiz_start = w\n",
    "            horiz_end = horiz_start + f\n",
    "            a_slice_prev = img_data[vert_start:vert_end, horiz_start:horiz_end]\n",
    "            mat = np.multiply(a_slice_prev, kernel)\n",
    "            Z[h, w] = np.sum(mat)\n",
    "    return Z\n",
    "Zh = conv2D(img_data, filter3)\n",
    "Zv = conv2D(img_data, filter3.T)"
   ]
  },
  {
   "cell_type": "code",
   "execution_count": 3,
   "metadata": {},
   "outputs": [
    {
     "data": {
      "image/png": "[encoded data removed]",
      "text/plain": [
       "<Figure size 864x288 with 3 Axes>"
      ]
     },
     "metadata": {},
     "output_type": "display_data"
    }
   ],
   "source": [
    "fig, axs = plt.subplots(1, 3, sharex=True,figsize=(12,4))\n",
    "for a in axs:\n",
    "    a.grid(False)\n",
    "axs[0].imshow(img_data, cmap='gray')\n",
    "axs[1].imshow(Zh, cmap='gray')\n",
    "axs[2].imshow(Zv, cmap='gray')\n",
    "plt.show()"
   ]
  }
 ],
 "metadata": {
  "kernelspec": {
   "display_name": "Python 3",
   "language": "python",
   "name": "python3"
  },
  "language_info": {
   "codemirror_mode": {
    "name": "ipython",
    "version": 3
   },
   "file_extension": ".py",
   "mimetype": "text/x-python",
   "name": "python",
   "nbconvert_exporter": "python",
   "pygments_lexer": "ipython3",
   "version": "3.6.2"
  },
  "toc": {
   "base_numbering": 1,
   "nav_menu": {},
   "number_sections": true,
   "sideBar": true,
   "skip_h1_title": false,
   "title_cell": "Table of Contents",
   "title_sidebar": "Contents",
   "toc_cell": false,
   "toc_position": {},
   "toc_section_display": true,
   "toc_window_display": false
  }
 },
 "nbformat": 4,
 "nbformat_minor": 2
}
