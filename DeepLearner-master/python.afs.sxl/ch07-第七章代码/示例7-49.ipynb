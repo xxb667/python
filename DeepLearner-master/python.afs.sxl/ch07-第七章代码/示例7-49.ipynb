{
 "cells": [
  {
   "cell_type": "markdown",
   "metadata": {},
   "source": [
    "# 铺垫\n",
    "来自示例7-39"
   ]
  },
  {
   "cell_type": "code",
   "execution_count": 1,
   "metadata": {},
   "outputs": [
    {
     "name": "stdout",
     "output_type": "stream",
     "text": [
      "Populating the interactive namespace from numpy and matplotlib\n"
     ]
    },
    {
     "data": {
      "image/png": "[encoded data removed]",
      "text/plain": [
       "<Figure size 216x72 with 1 Axes>"
      ]
     },
     "metadata": {},
     "output_type": "display_data"
    }
   ],
   "source": [
    "%pylab inline\n",
    "data = np.ones((1,3))\n",
    "data[:,:2] = 0.85\n",
    "fig, ax = plt.subplots(figsize=(3,1))\n",
    "ax.grid(color='k')\n",
    "ax.imshow(data, cmap='gray', vmin=0, vmax=1)\n",
    "t = ax.set_yticks(np.arange(-0.5, 0.51, 1))\n",
    "t = ax.set_xticks(np.arange(-0.5,2.6,1))\n",
    "lines = ax.get_xticklines()\n",
    "for l in lines:\n",
    "    l.set_visible(False)\n",
    "lines = ax.get_yticklines()\n",
    "for l in lines:\n",
    "    l.set_visible(False)\n",
    "# 隐藏 x 轴的 tickline\n",
    "lbs = ax.get_xticklabels()\n",
    "# 小写的 L 表示具体的一个label\n",
    "for l in lbs:\n",
    "    l.set_visible(False)\n",
    "# 隐藏 y 轴的 ticklabel\n",
    "lbs = ax.get_yticklabels()\n",
    "for l in lbs:\n",
    "    l.set_visible(False)"
   ]
  },
  {
   "cell_type": "markdown",
   "metadata": {},
   "source": [
    "# 示例7-49"
   ]
  },
  {
   "cell_type": "code",
   "execution_count": 2,
   "metadata": {},
   "outputs": [
    {
     "data": {
      "image/png": "[encoded data removed]",
      "text/plain": [
       "<Figure size 216x72 with 1 Axes>"
      ]
     },
     "execution_count": 2,
     "metadata": {},
     "output_type": "execute_result"
    }
   ],
   "source": [
    "for i in range(3):\n",
    "   ax.text(i,0,i,fontsize=36,ha=\"center\",va='center')\n",
    "fig"
   ]
  },
  {
   "cell_type": "code",
   "execution_count": 3,
   "metadata": {},
   "outputs": [],
   "source": []
  }
 ],
 "metadata": {
  "kernelspec": {
   "display_name": "Python 3",
   "language": "python",
   "name": "python3"
  },
  "language_info": {
   "codemirror_mode": {
    "name": "ipython",
    "version": 3
   },
   "file_extension": ".py",
   "mimetype": "text/x-python",
   "name": "python",
   "nbconvert_exporter": "python",
   "pygments_lexer": "ipython3",
   "version": "3.6.2"
  },
  "toc": {
   "base_numbering": 1,
   "nav_menu": {},
   "number_sections": true,
   "sideBar": true,
   "skip_h1_title": false,
   "title_cell": "Table of Contents",
   "title_sidebar": "Contents",
   "toc_cell": false,
   "toc_position": {},
   "toc_section_display": true,
   "toc_window_display": false
  }
 },
 "nbformat": 4,
 "nbformat_minor": 2
}
