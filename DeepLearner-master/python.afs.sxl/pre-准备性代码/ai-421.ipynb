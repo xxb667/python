{
 "cells": [
  {
   "cell_type": "code",
   "execution_count": null,
   "metadata": {},
   "outputs": [],
   "source": [
    "%pylab inline\n",
    "from PIL import Image\n",
    "import io\n",
    "from urllib import request\n",
    "url = 'https://raw.githubusercontent.com/MachineIntellect/DeepLearner/b3429646bb615c0323d7fa5d69324179312cf7db/xhty70k.jpg'\n",
    "resp = request.urlopen(url)\n",
    "s = resp.read()\n",
    "im = Image.open(io.BytesIO(s))\n",
    "im"
   ]
  },
  {
   "cell_type": "code",
   "execution_count": null,
   "metadata": {},
   "outputs": [],
   "source": [
    "size = 128, 128\n",
    "im.thumbnail(size)\n",
    "im"
   ]
  }
 ],
 "metadata": {
  "kernelspec": {
   "display_name": "Python 3",
   "language": "python",
   "name": "python3"
  },
  "language_info": {
   "codemirror_mode": {
    "name": "ipython",
    "version": 3
   },
   "file_extension": ".py",
   "mimetype": "text/x-python",
   "name": "python",
   "nbconvert_exporter": "python",
   "pygments_lexer": "ipython3",
   "version": "3.6.2"
  }
 },
 "nbformat": 4,
 "nbformat_minor": 2
}
