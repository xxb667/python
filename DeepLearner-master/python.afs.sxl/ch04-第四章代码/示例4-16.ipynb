{
 "cells": [
  {
   "cell_type": "markdown",
   "metadata": {},
   "source": [
    "# 铺垫  \n",
    "来自示例4-01"
   ]
  },
  {
   "cell_type": "code",
   "execution_count": 1,
   "metadata": {},
   "outputs": [
    {
     "data": {
      "text/plain": [
       "[[0, 0, 0, 0, 1, 0, 0, 0, 0],\n",
       " [0, 0, 0, 1, 0, 1, 0, 0, 0],\n",
       " [0, 0, 1, 0, 0, 0, 1, 0, 0],\n",
       " [0, 1, 0, 0, 0, 0, 0, 1, 0],\n",
       " [1, 0, 0, 0, 0, 0, 0, 0, 1],\n",
       " [0, 1, 0, 0, 0, 0, 0, 1, 0],\n",
       " [0, 0, 1, 0, 0, 0, 1, 0, 0],\n",
       " [0, 0, 0, 1, 0, 1, 0, 0, 0],\n",
       " [0, 0, 0, 0, 1, 0, 0, 0, 0]]"
      ]
     },
     "execution_count": 1,
     "metadata": {},
     "output_type": "execute_result"
    }
   ],
   "source": [
    "数据=[[0,0,0,0,1,0,0,0,0],\n",
    "      [0,0,0,1,0,1,0,0,0],\n",
    "      [0,0,1,0,0,0,1,0,0],\n",
    "      [0,1,0,0,0,0,0,1,0],\n",
    "      [1,0,0,0,0,0,0,0,1],\n",
    "      [0,1,0,0,0,0,0,1,0],\n",
    "      [0,0,1,0,0,0,1,0,0],\n",
    "      [0,0,0,1,0,1,0,0,0],\n",
    "      [0,0,0,0,1,0,0,0,0]]\n",
    "数据"
   ]
  },
  {
   "cell_type": "markdown",
   "metadata": {},
   "source": [
    "# 示例4-16"
   ]
  },
  {
   "cell_type": "code",
   "execution_count": 2,
   "metadata": {},
   "outputs": [
    {
     "name": "stdout",
     "output_type": "stream",
     "text": [
      "----+----\n",
      "---+-+---\n",
      "--+---+--\n",
      "-+-----+-\n",
      "+-------+\n",
      "-+-----+-\n",
      "--+---+--\n",
      "---+-+---\n",
      "----+----\n"
     ]
    }
   ],
   "source": [
    "for 行 in 数据:\n",
    "    for 列 in 行:\n",
    "        if 列 == 0:\n",
    "            print(\"-\", end=\"\")\n",
    "        else:\n",
    "            print(\"+\", end=\"\")\n",
    "    print(\"\")"
   ]
  }
 ],
 "metadata": {
  "kernelspec": {
   "display_name": "Python 3",
   "language": "python",
   "name": "python3"
  },
  "language_info": {
   "codemirror_mode": {
    "name": "ipython",
    "version": 3
   },
   "file_extension": ".py",
   "mimetype": "text/x-python",
   "name": "python",
   "nbconvert_exporter": "python",
   "pygments_lexer": "ipython3",
   "version": "3.6.2"
  }
 },
 "nbformat": 4,
 "nbformat_minor": 2
}
