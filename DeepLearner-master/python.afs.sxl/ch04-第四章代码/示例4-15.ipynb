{
 "cells": [
  {
   "cell_type": "markdown",
   "metadata": {},
   "source": [
    "# 铺垫 \n",
    "来自示例4-01"
   ]
  },
  {
   "cell_type": "code",
   "execution_count": 1,
   "metadata": {},
   "outputs": [
    {
     "data": {
      "text/plain": [
       "[[0, 0, 0, 0, 1, 0, 0, 0, 0],\n",
       " [0, 0, 0, 1, 0, 1, 0, 0, 0],\n",
       " [0, 0, 1, 0, 0, 0, 1, 0, 0],\n",
       " [0, 1, 0, 0, 0, 0, 0, 1, 0],\n",
       " [1, 0, 0, 0, 0, 0, 0, 0, 1],\n",
       " [0, 1, 0, 0, 0, 0, 0, 1, 0],\n",
       " [0, 0, 1, 0, 0, 0, 1, 0, 0],\n",
       " [0, 0, 0, 1, 0, 1, 0, 0, 0],\n",
       " [0, 0, 0, 0, 1, 0, 0, 0, 0]]"
      ]
     },
     "execution_count": 1,
     "metadata": {},
     "output_type": "execute_result"
    }
   ],
   "source": [
    "数据=[[0,0,0,0,1,0,0,0,0],\n",
    "      [0,0,0,1,0,1,0,0,0],\n",
    "      [0,0,1,0,0,0,1,0,0],\n",
    "      [0,1,0,0,0,0,0,1,0],\n",
    "      [1,0,0,0,0,0,0,0,1],\n",
    "      [0,1,0,0,0,0,0,1,0],\n",
    "      [0,0,1,0,0,0,1,0,0],\n",
    "      [0,0,0,1,0,1,0,0,0],\n",
    "      [0,0,0,0,1,0,0,0,0]]\n",
    "数据"
   ]
  },
  {
   "cell_type": "markdown",
   "metadata": {},
   "source": [
    "# 示例4-15"
   ]
  },
  {
   "cell_type": "code",
   "execution_count": 2,
   "metadata": {},
   "outputs": [
    {
     "name": "stdout",
     "output_type": "stream",
     "text": [
      "----+----"
     ]
    }
   ],
   "source": [
    "for i in 数据[0]:\n",
    "        if i == 0:\n",
    "            print(\"-\", end=\"\")\n",
    "        else:\n",
    "            print(\"+\", end=\"\")"
   ]
  }
 ],
 "metadata": {
  "kernelspec": {
   "display_name": "Python 3",
   "language": "python",
   "name": "python3"
  },
  "language_info": {
   "codemirror_mode": {
    "name": "ipython",
    "version": 3
   },
   "file_extension": ".py",
   "mimetype": "text/x-python",
   "name": "python",
   "nbconvert_exporter": "python",
   "pygments_lexer": "ipython3",
   "version": "3.6.2"
  }
 },
 "nbformat": 4,
 "nbformat_minor": 2
}
